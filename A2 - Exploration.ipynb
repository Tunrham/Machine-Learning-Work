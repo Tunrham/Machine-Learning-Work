{
 "cells": [
  {
   "cell_type": "code",
   "execution_count": 1,
   "metadata": {},
   "outputs": [],
   "source": [
    "### Examination of Federer vs Roddick Data Set\n"
   ]
  },
  {
   "cell_type": "code",
   "execution_count": 1,
   "metadata": {},
   "outputs": [],
   "source": [
    "# Loading necessary Data Visualisation libraries:\n",
    "import pandas as pd\n",
    "import numpy as np\n",
    "import seaborn as sns\n",
    "import matplotlib.pyplot as plt\n",
    "\n",
    "%matplotlib inline"
   ]
  },
  {
   "cell_type": "code",
   "execution_count": 2,
   "metadata": {},
   "outputs": [
    {
     "data": {
      "text/html": [
       "<div>\n",
       "<style scoped>\n",
       "    .dataframe tbody tr th:only-of-type {\n",
       "        vertical-align: middle;\n",
       "    }\n",
       "\n",
       "    .dataframe tbody tr th {\n",
       "        vertical-align: top;\n",
       "    }\n",
       "\n",
       "    .dataframe thead th {\n",
       "        text-align: right;\n",
       "    }\n",
       "</style>\n",
       "<table border=\"1\" class=\"dataframe\">\n",
       "  <thead>\n",
       "    <tr style=\"text-align: right;\">\n",
       "      <th></th>\n",
       "      <th>match_id</th>\n",
       "      <th>Pt</th>\n",
       "      <th>Set1</th>\n",
       "      <th>Set2</th>\n",
       "      <th>Gm1</th>\n",
       "      <th>Gm2</th>\n",
       "      <th>Pts</th>\n",
       "      <th>SrvDueceSide</th>\n",
       "      <th>Gm#</th>\n",
       "      <th>TbSet</th>\n",
       "      <th>...</th>\n",
       "      <th>PtsAfter</th>\n",
       "      <th>GmW</th>\n",
       "      <th>Gm1.1</th>\n",
       "      <th>Gm2.1</th>\n",
       "      <th>SetW</th>\n",
       "      <th>Set1.1</th>\n",
       "      <th>Set2.1</th>\n",
       "      <th>RevTB</th>\n",
       "      <th>TBrev</th>\n",
       "      <th>rallyCount</th>\n",
       "    </tr>\n",
       "  </thead>\n",
       "  <tbody>\n",
       "    <tr>\n",
       "      <th>0</th>\n",
       "      <td>20070905-M-US_Open-QF-Roger_Federer-Andy_Roddick</td>\n",
       "      <td>1</td>\n",
       "      <td>0</td>\n",
       "      <td>0</td>\n",
       "      <td>0</td>\n",
       "      <td>0</td>\n",
       "      <td>0-0</td>\n",
       "      <td>True</td>\n",
       "      <td>1</td>\n",
       "      <td>1</td>\n",
       "      <td>...</td>\n",
       "      <td>0-15</td>\n",
       "      <td>0</td>\n",
       "      <td>0</td>\n",
       "      <td>0</td>\n",
       "      <td>0</td>\n",
       "      <td>0</td>\n",
       "      <td>0</td>\n",
       "      <td>NaN</td>\n",
       "      <td>NaN</td>\n",
       "      <td>4</td>\n",
       "    </tr>\n",
       "    <tr>\n",
       "      <th>1</th>\n",
       "      <td>20070905-M-US_Open-QF-Roger_Federer-Andy_Roddick</td>\n",
       "      <td>2</td>\n",
       "      <td>0</td>\n",
       "      <td>0</td>\n",
       "      <td>0</td>\n",
       "      <td>0</td>\n",
       "      <td>0-15</td>\n",
       "      <td>False</td>\n",
       "      <td>1</td>\n",
       "      <td>1</td>\n",
       "      <td>...</td>\n",
       "      <td>15-15</td>\n",
       "      <td>0</td>\n",
       "      <td>0</td>\n",
       "      <td>0</td>\n",
       "      <td>0</td>\n",
       "      <td>0</td>\n",
       "      <td>0</td>\n",
       "      <td>NaN</td>\n",
       "      <td>NaN</td>\n",
       "      <td>1</td>\n",
       "    </tr>\n",
       "    <tr>\n",
       "      <th>2</th>\n",
       "      <td>20070905-M-US_Open-QF-Roger_Federer-Andy_Roddick</td>\n",
       "      <td>3</td>\n",
       "      <td>0</td>\n",
       "      <td>0</td>\n",
       "      <td>0</td>\n",
       "      <td>0</td>\n",
       "      <td>15-15</td>\n",
       "      <td>True</td>\n",
       "      <td>1</td>\n",
       "      <td>1</td>\n",
       "      <td>...</td>\n",
       "      <td>30-15</td>\n",
       "      <td>0</td>\n",
       "      <td>0</td>\n",
       "      <td>0</td>\n",
       "      <td>0</td>\n",
       "      <td>0</td>\n",
       "      <td>0</td>\n",
       "      <td>NaN</td>\n",
       "      <td>NaN</td>\n",
       "      <td>11</td>\n",
       "    </tr>\n",
       "    <tr>\n",
       "      <th>3</th>\n",
       "      <td>20070905-M-US_Open-QF-Roger_Federer-Andy_Roddick</td>\n",
       "      <td>4</td>\n",
       "      <td>0</td>\n",
       "      <td>0</td>\n",
       "      <td>0</td>\n",
       "      <td>0</td>\n",
       "      <td>30-15</td>\n",
       "      <td>False</td>\n",
       "      <td>1</td>\n",
       "      <td>1</td>\n",
       "      <td>...</td>\n",
       "      <td>40-15</td>\n",
       "      <td>0</td>\n",
       "      <td>0</td>\n",
       "      <td>0</td>\n",
       "      <td>0</td>\n",
       "      <td>0</td>\n",
       "      <td>0</td>\n",
       "      <td>NaN</td>\n",
       "      <td>NaN</td>\n",
       "      <td>1</td>\n",
       "    </tr>\n",
       "    <tr>\n",
       "      <th>4</th>\n",
       "      <td>20070905-M-US_Open-QF-Roger_Federer-Andy_Roddick</td>\n",
       "      <td>5</td>\n",
       "      <td>0</td>\n",
       "      <td>0</td>\n",
       "      <td>0</td>\n",
       "      <td>0</td>\n",
       "      <td>40-15</td>\n",
       "      <td>True</td>\n",
       "      <td>1</td>\n",
       "      <td>1</td>\n",
       "      <td>...</td>\n",
       "      <td>GM</td>\n",
       "      <td>1</td>\n",
       "      <td>1</td>\n",
       "      <td>0</td>\n",
       "      <td>0</td>\n",
       "      <td>0</td>\n",
       "      <td>0</td>\n",
       "      <td>NaN</td>\n",
       "      <td>NaN</td>\n",
       "      <td>9</td>\n",
       "    </tr>\n",
       "  </tbody>\n",
       "</table>\n",
       "<p>5 rows × 53 columns</p>\n",
       "</div>"
      ],
      "text/plain": [
       "                                           match_id  Pt  Set1  Set2  Gm1  Gm2  \\\n",
       "0  20070905-M-US_Open-QF-Roger_Federer-Andy_Roddick   1     0     0    0    0   \n",
       "1  20070905-M-US_Open-QF-Roger_Federer-Andy_Roddick   2     0     0    0    0   \n",
       "2  20070905-M-US_Open-QF-Roger_Federer-Andy_Roddick   3     0     0    0    0   \n",
       "3  20070905-M-US_Open-QF-Roger_Federer-Andy_Roddick   4     0     0    0    0   \n",
       "4  20070905-M-US_Open-QF-Roger_Federer-Andy_Roddick   5     0     0    0    0   \n",
       "\n",
       "     Pts  SrvDueceSide  Gm#  TbSet    ...      PtsAfter  GmW  Gm1.1  Gm2.1  \\\n",
       "0    0-0          True    1      1    ...          0-15    0      0      0   \n",
       "1   0-15         False    1      1    ...         15-15    0      0      0   \n",
       "2  15-15          True    1      1    ...         30-15    0      0      0   \n",
       "3  30-15         False    1      1    ...         40-15    0      0      0   \n",
       "4  40-15          True    1      1    ...            GM    1      1      0   \n",
       "\n",
       "  SetW Set1.1 Set2.1 RevTB TBrev rallyCount  \n",
       "0    0      0      0   NaN   NaN          4  \n",
       "1    0      0      0   NaN   NaN          1  \n",
       "2    0      0      0   NaN   NaN         11  \n",
       "3    0      0      0   NaN   NaN          1  \n",
       "4    0      0      0   NaN   NaN          9  \n",
       "\n",
       "[5 rows x 53 columns]"
      ]
     },
     "execution_count": 2,
     "metadata": {},
     "output_type": "execute_result"
    }
   ],
   "source": [
    "# Load the Dataset:\n",
    "fr = pd.read_csv('FedRod.csv')\n",
    "\n",
    "fr.head()"
   ]
  },
  {
   "cell_type": "code",
   "execution_count": 3,
   "metadata": {},
   "outputs": [
    {
     "name": "stdout",
     "output_type": "stream",
     "text": [
      "<class 'pandas.core.frame.DataFrame'>\n",
      "RangeIndex: 1097 entries, 0 to 1096\n",
      "Data columns (total 53 columns):\n",
      "match_id            1097 non-null object\n",
      "Pt                  1097 non-null int64\n",
      "Set1                1097 non-null int64\n",
      "Set2                1097 non-null int64\n",
      "Gm1                 1097 non-null int64\n",
      "Gm2                 1097 non-null int64\n",
      "Pts                 1097 non-null object\n",
      "SrvDueceSide        1097 non-null bool\n",
      "Gm#                 1097 non-null int64\n",
      "TbSet               1097 non-null int64\n",
      "TB?                 1097 non-null int64\n",
      "TBpt                33 non-null float64\n",
      "Svr                 1097 non-null int64\n",
      "Ret                 1097 non-null int64\n",
      "Serving             1097 non-null object\n",
      "1st                 1097 non-null object\n",
      "2nd                 420 non-null object\n",
      "Notes               12 non-null object\n",
      "1stNoLet            1097 non-null object\n",
      "2ndNoLet            420 non-null object\n",
      "1stSV               1097 non-null int64\n",
      "2ndSV               420 non-null float64\n",
      "1stNoSV             1097 non-null object\n",
      "2ndNoSV             420 non-null object\n",
      "1stIn               1097 non-null int64\n",
      "2ndIn               420 non-null float64\n",
      "isRally1st          1097 non-null int64\n",
      "isRally2nd          1097 non-null int64\n",
      "Sv1                 1097 non-null object\n",
      "Sv2                 420 non-null object\n",
      "Rally               899 non-null object\n",
      "isAce               1097 non-null bool\n",
      "isUnret             1097 non-null bool\n",
      "isRallyWinner       1097 non-null bool\n",
      "isForced            1097 non-null bool\n",
      "isUnforced          1097 non-null bool\n",
      "isDouble            1097 non-null bool\n",
      "rallyNoSpec         899 non-null object\n",
      "rallyNoError        899 non-null object\n",
      "rallyNoDirection    899 non-null object\n",
      "rallyLen            1097 non-null int64\n",
      "PtWinner            1097 non-null int64\n",
      "isSvrWinner         1097 non-null int64\n",
      "PtsAfter            1097 non-null object\n",
      "GmW                 1097 non-null int64\n",
      "Gm1.1               1097 non-null int64\n",
      "Gm2.1               1097 non-null int64\n",
      "SetW                1097 non-null int64\n",
      "Set1.1              1097 non-null int64\n",
      "Set2.1              1097 non-null int64\n",
      "RevTB               16 non-null float64\n",
      "TBrev               16 non-null object\n",
      "rallyCount          1097 non-null int64\n",
      "dtypes: bool(7), float64(4), int64(24), object(18)\n",
      "memory usage: 401.8+ KB\n"
     ]
    }
   ],
   "source": [
    "# Information on the dataset\n",
    "fr.info()"
   ]
  },
  {
   "cell_type": "code",
   "execution_count": 4,
   "metadata": {},
   "outputs": [],
   "source": [
    "# We're going to need to do some actual exploratory research now\n",
    "\n",
    "## I think splitting by player might be the best way to analyse\n",
    "\n",
    "### Creating a Dataset for Each Player as Server\n",
    "#### This is for Roddick Serving\n",
    "ar_serve = fr[(fr['Serving']== 'AR')]\n",
    "#### This is for Federer Serving\n",
    "rf_serve = fr[(fr['Serving']== 'RF')]"
   ]
  },
  {
   "cell_type": "code",
   "execution_count": 5,
   "metadata": {},
   "outputs": [
    {
     "name": "stdout",
     "output_type": "stream",
     "text": [
      "4.001776198934281\n",
      "3.850187265917603\n"
     ]
    }
   ],
   "source": [
    "# Let's get a distplot for the average rally length on each player's serve:\n",
    "\n",
    "## Andy's Serve:\n",
    "ar_avg_r = ar_serve['rallyCount'].mean()\n",
    "\n",
    "## Roger's Serve:\n",
    "rf_avg_r = rf_serve['rallyCount'].mean()\n",
    "\n",
    "print(ar_avg_r)\n",
    "print(rf_avg_r)\n",
    "\n",
    "### Looks like Roger is finishing points slightly quicker"
   ]
  },
  {
   "cell_type": "code",
   "execution_count": 6,
   "metadata": {},
   "outputs": [
    {
     "data": {
      "text/plain": [
       "<matplotlib.axes._subplots.AxesSubplot at 0x10ced04a8>"
      ]
     },
     "execution_count": 6,
     "metadata": {},
     "output_type": "execute_result"
    },
    {
     "data": {
      "image/png": "[encoded data removed]",
      "text/plain": [
       "<Figure size 432x288 with 1 Axes>"
      ]
     },
     "metadata": {},
     "output_type": "display_data"
    }
   ],
   "source": [
    "# Federer and Roddick's rally length whilst serving\n",
    "\n",
    "sns.kdeplot(ar_serve['rallyCount'], label = 'Roddick Serve AVG P Length')\n",
    "sns.kdeplot(rf_serve['rallyCount'], label = 'Federer Serve AVG P Length')"
   ]
  },
  {
   "cell_type": "code",
   "execution_count": 7,
   "metadata": {
    "scrolled": true
   },
   "outputs": [
    {
     "data": {
      "text/plain": [
       "4    153\n",
       "6     91\n",
       "5     45\n",
       "R      1\n",
       "S      1\n",
       "Name: Sv1, dtype: int64"
      ]
     },
     "execution_count": 7,
     "metadata": {},
     "output_type": "execute_result"
    }
   ],
   "source": [
    "# Federer and Roddick's serve direction (including Misses)\n",
    "\n",
    "## Let's do Roddick's First:\n",
    "### AR Duece Side Statistics\n",
    "ar_d_srv = ar_serve[(ar_serve['SrvDueceSide'])==True]\n",
    "### AR Advantage Side Statistics\n",
    "ar_a_srv = ar_serve[(ar_serve['SrvDueceSide'])==False]\n",
    "#### AR Duece Side 1st Serve Direction\n",
    "ar_d_srv['Sv1'].str[0].value_counts() # used str[0] because I only care about direction and not result\n",
    "\n",
    "# This is already Interesting - ~60% Serves Wide\n",
    "# My guess is Roddick's main pattern of play here will be:\n",
    "# First serve Wide, first ball into the open backhand court\n"
   ]
  },
  {
   "cell_type": "code",
   "execution_count": 8,
   "metadata": {},
   "outputs": [
    {
     "data": {
      "text/plain": [
       "6    126\n",
       "4    105\n",
       "5     40\n",
       "S      1\n",
       "Name: Sv1, dtype: int64"
      ]
     },
     "execution_count": 8,
     "metadata": {},
     "output_type": "execute_result"
    }
   ],
   "source": [
    "#### AR Ad Side 1st Serve Direction\n",
    "ar_a_srv['Sv1'].str[0].value_counts() # Ok these numbers are more normal"
   ]
  },
  {
   "cell_type": "code",
   "execution_count": 9,
   "metadata": {},
   "outputs": [
    {
     "data": {
      "text/plain": [
       "5    45\n",
       "6    36\n",
       "4    13\n",
       "Name: Sv2, dtype: int64"
      ]
     },
     "execution_count": 9,
     "metadata": {},
     "output_type": "execute_result"
    }
   ],
   "source": [
    "#### AR Duece Side 2nd Serve Direction\n",
    "ar_d_srv['Sv2'].str[0].value_counts()\n",
    "\n",
    "# Serve on Deuce side are already interesting,\n",
    "# we've reverted to a body/backhand centric\n",
    "# second serve strategy for Second Serves\n"
   ]
  },
  {
   "cell_type": "code",
   "execution_count": 10,
   "metadata": {},
   "outputs": [
    {
     "data": {
      "text/plain": [
       "4    79\n",
       "5    22\n",
       "6     8\n",
       "Name: Sv2, dtype: int64"
      ]
     },
     "execution_count": 10,
     "metadata": {},
     "output_type": "execute_result"
    }
   ],
   "source": [
    "#### AR Advantage Side 2nd Serve Direction\n",
    "ar_a_srv['Sv2'].str[0].value_counts()\n",
    "# No shock completely backhand centric,\n",
    "# Opening up the court straight away with almost\n",
    "# No balls being hit to the FH at all"
   ]
  },
  {
   "cell_type": "code",
   "execution_count": 11,
   "metadata": {},
   "outputs": [
    {
     "data": {
      "text/plain": [
       "4    136\n",
       "6    106\n",
       "5     32\n",
       "S      2\n",
       "Name: Sv1, dtype: int64"
      ]
     },
     "execution_count": 11,
     "metadata": {},
     "output_type": "execute_result"
    }
   ],
   "source": [
    "## Let's do Federer's First:\n",
    "### RF Duece Side Statistics\n",
    "rf_d_srv = rf_serve[(rf_serve['SrvDueceSide'])==True]\n",
    "### RF Advantage Side Statistics\n",
    "rf_a_srv = rf_serve[(rf_serve['SrvDueceSide'])==False]\n",
    "#### RF Duece Side 1st Serve Direction\n",
    "rf_d_srv['Sv1'].str[0].value_counts() # used str[0] because I only care about direction and not result\n",
    "\n",
    "# This is already Interesting - ~60% Serves Wide\n",
    "# My guess is Roddick's main pattern of play here will be:\n",
    "# First serve Wide, first ball into the open backhand court\n"
   ]
  },
  {
   "cell_type": "code",
   "execution_count": 12,
   "metadata": {},
   "outputs": [
    {
     "data": {
      "text/plain": [
       "4    138\n",
       "6     99\n",
       "5     20\n",
       "R      1\n",
       "Name: Sv1, dtype: int64"
      ]
     },
     "execution_count": 12,
     "metadata": {},
     "output_type": "execute_result"
    }
   ],
   "source": [
    "#### RF Ad Side 1st Serve Direction\n",
    "rf_a_srv['Sv1'].str[0].value_counts()\n",
    "\n",
    "# Really interesting to see how Federer is more balanced with First Serve on both sides\n",
    "# Again, near 5050 for BH vs the rest on the ad side"
   ]
  },
  {
   "cell_type": "code",
   "execution_count": 13,
   "metadata": {},
   "outputs": [
    {
     "data": {
      "text/plain": [
       "6    47\n",
       "5    44\n",
       "4    22\n",
       "Name: Sv2, dtype: int64"
      ]
     },
     "execution_count": 13,
     "metadata": {},
     "output_type": "execute_result"
    }
   ],
   "source": [
    "#### RF Duece Side 2nd Serve Direction\n",
    "rf_d_srv['Sv2'].str[0].value_counts()\n",
    "\n",
    "# Heavily backhand centric on Second serves on the Duece side"
   ]
  },
  {
   "cell_type": "code",
   "execution_count": 14,
   "metadata": {},
   "outputs": [
    {
     "data": {
      "text/plain": [
       "4    63\n",
       "5    21\n",
       "6    20\n",
       "Name: Sv2, dtype: int64"
      ]
     },
     "execution_count": 14,
     "metadata": {},
     "output_type": "execute_result"
    }
   ],
   "source": [
    "#### RF Ad side 2nd Serve Direction\n",
    "rf_a_srv['Sv2'].str[0].value_counts()\n",
    "\n",
    "# Again, heavily backhand centric"
   ]
  },
  {
   "cell_type": "code",
   "execution_count": 19,
   "metadata": {},
   "outputs": [
    {
     "name": "stdout",
     "output_type": "stream",
     "text": [
      "Andy Roddick is winning 0.6272727272727273 % of 1st Serves when hitting Wide on the Duece Court, or 69 of 110 points.\n",
      "Andy Roddick is winning 0.7058823529411765 % of 1st Serves when hitting Body on the Duece Court, or 24 of 34 points.\n",
      "Andy Roddick is winning 0.803921568627451 % of 1st Serves when hitting Tee on the Duece Court, or 41 of 51 points.\n"
     ]
    },
    {
     "name": "stderr",
     "output_type": "stream",
     "text": [
      "/Users/nicholasturnham/anaconda3/lib/python3.6/site-packages/ipykernel_launcher.py:25: SettingWithCopyWarning: \n",
      "A value is trying to be set on a copy of a slice from a DataFrame.\n",
      "Try using .loc[row_indexer,col_indexer] = value instead\n",
      "\n",
      "See the caveats in the documentation: http://pandas.pydata.org/pandas-docs/stable/indexing.html#indexing-view-versus-copy\n"
     ]
    }
   ],
   "source": [
    "###########################################################################\n",
    "###########################################################################\n",
    "\n",
    "# Ok, I'm very curious WRT serve direction and % of points won for each player\n",
    "# Obviously Roddick lost, I'd like to focus on him first\n",
    "\n",
    "## First we need to get all points on the FH side where Roddick hit the\n",
    "## First serve in. For this we want [\"Sv2\" = Null]\n",
    "\n",
    "################################################################################\n",
    "### Below is exclusively used for finding AR's Win % on First Serves Wide on the Duece Side\n",
    "### It is way too long and poorly formatted in my honest opinion\n",
    "### It does however get the information I'm looking for, albeit\n",
    "### in an incredibly Hack fashion\n",
    "\n",
    "# Let's start by looking at all of his Duece Side 1st Serves that went in:\n",
    "ar_1st_d_in = ar_d_srv[(ar_d_srv['Sv2'].isna())] # This is 197 Points\n",
    "# Now let's get a count of points won by direction vs points played:\n",
    "## This might take my lack of python skills a few steps and a lot of inefficiency\n",
    "#########################################################\n",
    "######## Steps for Wide on Duece Side 1st Serve #########\n",
    "#########################################################\n",
    "\n",
    "s1 = ar_1st_d_in #preprocessing step\n",
    "s1['Sv1'] = s1['Sv1'].str[0] #preprocessing step - get rid of results after Srv\n",
    "s2 = s1[(s1['Sv1']=='4')] #preprocessing step - only view the wide 1st serves\n",
    "s3 = s2['isSvrWinner'].value_counts() #preprocessing step - getting a count of serves won using wide serve\n",
    "s4 = s3 #preprocessing step - unsure why\n",
    "\n",
    "#########################################################\n",
    "######## Steps for Body on Duece Side 1st Serve #########\n",
    "#########################################################\n",
    "\n",
    "\n",
    "s2b = s1[(s1['Sv1']=='5')] #preprocessing step - only view the Body 1st serves\n",
    "s3b = s2b['isSvrWinner'].value_counts() #preprocessing step - getting a count of serves won using body serve\n",
    "s4b = s3b #preprocessing step - unsure why\n",
    "# Obviously steps are very similar to above\n",
    "\n",
    "#########################################################\n",
    "######### Steps for Tee on Duece Side 1st Serve #########\n",
    "#########################################################\n",
    "\n",
    "s2t = s1[(s1['Sv1']=='6')] #preprocessing step - only view the Tee 1st serves\n",
    "s3t = s2t['isSvrWinner'].value_counts() #preprocessing step - getting a count of serves won using Tee serve\n",
    "s4t = s3t #preprocessing step - unsure why\n",
    "# Obviously steps are very similar to above\n",
    "# Again, I'd imagine this is pretty poor coding practice, \n",
    "# whereby I'm just making way too many variables.\n",
    "# At the moment I'm literally just using s(x)[y], where\n",
    "# (x) equals the step in preprocessing, and [y] equals\n",
    "# the direction of the serve\n",
    "\n",
    "##########################################################\n",
    "# Wide Duece Side 1st Serve Win %\n",
    "ar_1st_d_wide_pct = \"Andy Roddick is winning {} % of 1st Serves when hitting Wide on the Duece Court, or {} of {} points.\".format((s4[1]/(s4[1]+s4[0])), s4[1], s4[1]+s4[0])\n",
    "print(ar_1st_d_wide_pct)\n",
    "# Body Duece Side 1st Serve Win %\n",
    "ar_1st_d_body_pct = \"Andy Roddick is winning {} % of 1st Serves when hitting Body on the Duece Court, or {} of {} points.\".format((s4b[1]/(s4b[1]+s4b[0])), s4b[1], s4b[1]+s4b[0])\n",
    "print(ar_1st_d_body_pct)\n",
    "# Tee Duece Side 1st Serve Win %\n",
    "ar_1st_d_tee_pct = \"Andy Roddick is winning {} % of 1st Serves when hitting Tee on the Duece Court, or {} of {} points.\".format((s4t[1]/(s4t[1]+s4t[0])), s4t[1], s4t[1]+s4t[0])\n",
    "print(ar_1st_d_tee_pct)"
   ]
  },
  {
   "cell_type": "code",
   "execution_count": 66,
   "metadata": {},
   "outputs": [],
   "source": [
    "#########################################################\n",
    "########## Some Observations on Roddick Duece  ##########\n",
    "########## Side 1st Serve Win Rate Percentages ##########\n",
    "#########################################################\n",
    "# It's a bit odd that Andy's going majority wide to\n",
    "# Federer's Forehand wing. I can think of two reasons:\n",
    "# 1) Federer is probably forced to hit back to Andy's FH\n",
    "# 2) It opens up the court for the next shot\n",
    "# The only problem with hypothesis (2) is that if that\n",
    "# were the case, we'd be expecting Andy to be winning a lot\n",
    "# of points after hitting his first serve wide\n",
    "\n"
   ]
  },
  {
   "cell_type": "code",
   "execution_count": 78,
   "metadata": {},
   "outputs": [
    {
     "name": "stdout",
     "output_type": "stream",
     "text": [
      "Roddick Duece Side 1st Serve Body Serve Accuracy Is: 0.7142857142857143 %, Serving there 0.5294117647058824 %\n",
      "Roddick Duece Side 1st Serve Body Serve Accuracy Is: 0.7555555555555555 %, Serving there 0.15570934256055363 %\n",
      "Roddick Duece Side 1st Serve Tee Serve Accuracy Is: 0.5604395604395604 %, Serving there 0.314878892733564 %\n"
     ]
    }
   ],
   "source": [
    "# We could always examine how many times he's hitting each serve in\n",
    "\n",
    "## Which is what we've done here below:\n",
    "### Again with unecessary/hack code:\n",
    "df11 = ar_d_srv['Sv1'].value_counts() #preprocessing step - getting all first serve directions\n",
    "\n",
    "# Roddick Duece Side Wide Serves (By DF Location) - preprocessing step\n",
    "duece_wide_pct = (df11[0]+df11[8]+df11[12]+df11[17])/(df11[0]+df11[8]+df11[12]+df11[4]+df11[7]+df11[9]+df11[16]+df11[17]+df11[21])\n",
    "\n",
    "# Roddick Duece Side Body Serves (By DF Location) - preprocessing step\n",
    "duece_body_pct = (df11[1]+df11[18])/(df11[1]+df11[18]+df11[10]+df11[11])\n",
    "\n",
    "# Roddick Duece Side Tee Serves (By DF Location) - preprocessing step\n",
    "duece_tee_pct = (df11[2]+df11[5]+df11[13])/(df11[2]+df11[5]+df11[13]+df11[3]+df11[6]+df11[14]+df11[15]+df11[21])\n",
    "\n",
    "# Printing all Duece Side Serves by Direction\n",
    "print(\"Roddick Duece Side 1st Serve Body Serve Accuracy Is:\",duece_wide_pct, \"%, Serving there\", ((153)/(153+45+91)), \"%\") # The numbers from above are found at \"ar_d_srv['Sv1'].str[0].value_counts()\"\n",
    "print(\"Roddick Duece Side 1st Serve Body Serve Accuracy Is:\",duece_body_pct, \"%, Serving there\", ((45)/(153+45+91)), \"%\")\n",
    "print(\"Roddick Duece Side 1st Serve Tee Serve Accuracy Is:\",duece_tee_pct, \"%, Serving there\", ((91)/(153+45+91)), \"%\")"
   ]
  },
  {
   "cell_type": "code",
   "execution_count": 169,
   "metadata": {},
   "outputs": [
    {
     "name": "stdout",
     "output_type": "stream",
     "text": [
      "Duece Side Second Serve Frequency\n",
      "Wide Serves Duece Side:  0.13829787234042554\n",
      "Body Serves Duece Side:  0.4787234042553192\n",
      "Tee Serves Duece Side:  0.3829787234042553\n",
      "\n",
      "\n",
      "Ad Side Second Serve Frequency\n",
      "Wide Serves Ad Side: 0.7247706422018348\n",
      "Body Serves Ad Side:  0.2018348623853211\n",
      "Tee Serves Ad Side:  0.07339449541284404\n"
     ]
    }
   ],
   "source": [
    "# Roddick, Second Serve Directions:\n",
    "\n",
    "## Duece Side:\n",
    "\n",
    "stepuno = ar_d_srv['Sv2'].str[0] # preprocessing step, getting rid of all results after the serve was hit\n",
    "ssdd = stepuno.value_counts()\n",
    "\n",
    "\n",
    "print(\"Duece Side Second Serve Frequency\")\n",
    "# Wide second Serve Frequency Duece Side\n",
    "dswss = ssdd[2]/(ssdd[2]+ssdd[1]+ssdd[0])\n",
    "print(\"Wide Serves Duece Side: \", dswss)\n",
    "\n",
    "# Body Second Serve Frequency Duece Side\n",
    "dsbss = ssdd[0]/(ssdd[1]+ssdd[2]+ssdd[0])\n",
    "print(\"Body Serves Duece Side: \" ,dsbss)\n",
    "\n",
    "# Tee Second Serve Frequency Duece Side\n",
    "dstss = ssdd[1]/(ssdd[1]+ssdd[2]+ssdd[0])\n",
    "print(\"Tee Serves Duece Side: \" ,dstss)\n",
    "\n",
    "\n",
    "print('\\n')\n",
    "## Ad Side Second Serve Frequency:\n",
    "\n",
    "stepdos = ar_a_srv['Sv2'].str[0]\n",
    "ssad = stepdos.value_counts()\n",
    "\n",
    "print(\"Ad Side Second Serve Frequency\")\n",
    "# Wide Second Serve Frequency Ad Side\n",
    "aswss = ssad[0]/(ssad[0]+ssad[1]+ssad[2])\n",
    "print(\"Wide Serves Ad Side:\" ,aswss)\n",
    "\n",
    "# Body Second Serve Frequency Ad Side\n",
    "asbss = ssad[1]/(ssad[0]+ssad[1]+ssad[2])\n",
    "print(\"Body Serves Ad Side: \", asbss)\n",
    "\n",
    "# Tee Second Serve Frequency Ad Side\n",
    "astss = ssad[2]/(ssad[0]+ssad[1]+ssad[2])\n",
    "print(\"Tee Serves Ad Side: \" ,astss)"
   ]
  },
  {
   "cell_type": "code",
   "execution_count": 183,
   "metadata": {},
   "outputs": [
    {
     "name": "stdout",
     "output_type": "stream",
     "text": [
      "Deuce Side Second Serve Accuracy\n",
      "Wide Accuracy  0.9230769230769231\n",
      "Body Accuracy  1.0\n",
      "Tee Accuracy  0.8333333333333334\n",
      "\n",
      "\n",
      "Ad Side Second Serve Accuracy\n",
      "Wide Accuracy  0.9620253164556962\n",
      "Body Accuracy  1.0\n",
      "Tee Accuracy  1.0\n"
     ]
    }
   ],
   "source": [
    "# WE should probably add the Second Serve Accuracy Data too\n",
    "\n",
    "### Duece Side Second Serve Data For Roddick \n",
    "sf2 = ar_d_srv['Sv2'].value_counts() # preprocessing - Only looking at Second Serves on the Duece Side\n",
    "\n",
    "print(\"Deuce Side Second Serve Accuracy\")\n",
    "\n",
    "# Accuracy on Wide Serve For Second Serve Duece Court\n",
    "d_2s_w = (sf2[2])/(sf2[2]+sf2[6])\n",
    "print(\"Wide Accuracy \", d_2s_w)\n",
    "\n",
    "# Accuracy on Body Serve For Second Serve Duece Court\n",
    "d_2s_b = (sf2[5])/(sf2[5])\n",
    "print(\"Body Accuracy \", d_2s_b)\n",
    "\n",
    "# Accuracy on Tee Serve For Second Serve Duece Court\n",
    "d_2s_t = (sf2[1])/(sf2[1]+sf2[3]+sf2[4]+sf2[5])\n",
    "print(\"Tee Accuracy \", d_2s_t)\n",
    "\n",
    "print('\\n')\n",
    "\n",
    "### Ad Side Second Serve Accuracy Data for Roddick\n",
    "print(\"Ad Side Second Serve Accuracy\")\n",
    "\n",
    "sf3 = ar_a_srv['Sv2'].value_counts() # preprocessing - only looking at Second serves on the Ad side\n",
    "\n",
    "\n",
    "# Accuracy on the Ad Side Wide Second Serve\n",
    "a_2s_w = (sf3[0]+sf3[4])/(sf3[0]+sf3[3]+sf3[4])\n",
    "print(\"Wide Accuracy \", a_2s_w)\n",
    "\n",
    "# Accuracy on the Ad Side Body Second Serve\n",
    "a_2s_b = sf3[1]/sf3[1]\n",
    "print(\"Body Accuracy \", a_2s_b)\n",
    "\n",
    "# Accuracy on the Ad Side Tee Second Serve\n",
    "a_2s_t = (sf3[2]+sf3[5])/(sf3[2]+sf3[5])\n",
    "print(\"Tee Accuracy \" , a_2s_t)"
   ]
  },
  {
   "cell_type": "code",
   "execution_count": 75,
   "metadata": {},
   "outputs": [
    {
     "name": "stdout",
     "output_type": "stream",
     "text": [
      "Roddick Ad Side 1st Serve Wide Serve Accuracy Is: 0.6285714285714286 % , Serving there 0.3874538745387454 %\n",
      "Roddick Ad Side 1st Serve Body Serve Accuracy Is: 0.675 %, Serving there 0.14760147601476015 %\n",
      "Roddick Ad Side 1st Serve Tee Serve Accuracy Is: 0.5476190476190477 %, Serving there 0.46494464944649444 %\n"
     ]
    }
   ],
   "source": [
    "# Let's look at the same Data on the Ad Side:\n",
    "\n",
    "df12 = ar_a_srv['Sv1'].value_counts()\n",
    "\n",
    "\n",
    "ad_wide_pct = (df12[0]+df12[12]+df12[13])/(df12[0]+df12[12]+df12[13]+df12[4]+df12[7]+df12[14]+df12[15])\n",
    "ad_body_pct = (df12[2])/(df12[2]+df12[10]+df12[11])\n",
    "ad_tee_pct =  (df12[1]+df12[5]+df12[9])/(df12[1]+df12[5]+df12[9]+df12[3]+df12[6]+df12[8]+df12[17])\n",
    "\n",
    "# Printing all Ad Side Serves by Direction\n",
    "print(\"Roddick Ad Side 1st Serve Wide Serve Accuracy Is:\", ad_wide_pct, \"% , Serving there\", ((105)/(105+40+126)), \"%\") # The numbers from above are found at \"ar_a_srv['Sv1'].str[0].value_counts()\"\n",
    "print(\"Roddick Ad Side 1st Serve Body Serve Accuracy Is:\",ad_body_pct, \"%, Serving there\", ((40)/(105+40+126)), \"%\")\n",
    "print(\"Roddick Ad Side 1st Serve Tee Serve Accuracy Is:\",ad_tee_pct, \"%, Serving there\", ((126)/(105+40+126)), \"%\")"
   ]
  },
  {
   "cell_type": "code",
   "execution_count": 192,
   "metadata": {},
   "outputs": [
    {
     "name": "stdout",
     "output_type": "stream",
     "text": [
      "xxxxxxxxxxxxxxxxxxxxxxxxxxxxxxxxxxxx\n",
      "xxxx Roddick Service Statistics xxxx\n",
      "xxxxxxxxxxxxxxxxxxxxxxxxxxxxxxxxxxxx\n",
      "x\n",
      "xx Roddick Duece Side Statistics xx\n",
      "x  -----------------------------\n",
      "x 1st Serve Direction Frequency\n",
      "x Count: 289 Serves\n",
      "x  ---\n",
      "x Wide: 0.5294117647058824 %\n",
      "x Body: 0.15570934256055363 %\n",
      "x Tee: 0.314878892733564 %\n",
      "x\n",
      "x 1st Serve Direction Accuracy\n",
      "x Wide: 0.7142857142857143 %\n",
      "x Body: 0.7555555555555555 %\n",
      "x Tee: 0.5604395604395604 %\n",
      "x\n",
      "x 2nd Serve Direction Frequency\n",
      "x Count: 94 Serves\n",
      "x  ---\n",
      "x Wide: 0.13829787234042554 %\n",
      "x Body: 0.4787234042553192 %\n",
      "x Tee: 0.3829787234042553 %\n",
      "x\n",
      "x 2nd Serve Direction Accuracy\n",
      "x Wide: 0.9230769230769231 %\n",
      "x Body: 1.0 %\n",
      "x Tee: 0.8333333333333334 %\n",
      "x\n",
      "xxxxxxxxxxxxxxxxxxxxxxxxxxxxxxxxxxxx\n",
      "xxxxxxxxxxxxxxxxxxxxxxxxxxxxxxxxxxxx\n",
      "x\n",
      "xx Roddick Ad Side Statistics xx\n",
      "x  --------------------------\n",
      "x 1st Serve Direction Frequency\n",
      "x Count: 271 Serves\n",
      "x  ---\n",
      "x Wide: 0.3874538745387454 %\n",
      "x Body: 0.14760147601476015 %\n",
      "x Tee: 0.46494464944649444 %\n",
      "x\n",
      "x 1st Serve Direction Accuracy\n",
      "x Wide: 0.6285714285714286 %\n",
      "x Body: 0.675 %\n",
      "x Tee: 0.5476190476190477 %\n",
      "x\n",
      "x 2nd Serve Direction Frequency\n",
      "x Count: 109 Serves\n",
      "x  ---\n",
      "x Wide: 0.7247706422018348 %\n",
      "x Body: 0.2018348623853211 %\n",
      "x Tee: 0.07339449541284404 %\n",
      "x\n",
      "x 2nd Serve Direction Accuracy\n",
      "x Wide: 0.9620253164556962 %\n",
      "x Body: 1.0 %\n",
      "x Tee: 1.0 %\n",
      "x\n",
      "xxxxxxxxxxxxxxxxxxxxxxxxxxxxxxxxxxxx\n",
      "xxxxxxxxxxxxxxxxxxxxxxxxxxxxxxxxxxxx\n"
     ]
    }
   ],
   "source": [
    "################################################################################\n",
    "##################### Complete Roddick 1st Serve Data ##########################\n",
    "################################################################################\n",
    "################################################################################\n",
    "####### Duece Side Statistics ##################################################\n",
    "print('xxxxxxxxxxxxxxxxxxxxxxxxxxxxxxxxxxxx')\n",
    "print('xxxx Roddick Service Statistics xxxx')\n",
    "print('xxxxxxxxxxxxxxxxxxxxxxxxxxxxxxxxxxxx')\n",
    "print('x')\n",
    "print('xx Roddick Duece Side Statistics xx')\n",
    "print('x  -----------------------------')\n",
    "print('x 1st Serve Direction Frequency')\n",
    "print('x Count:' ,(153+45+91), 'Serves')\n",
    "print('x  ---')\n",
    "print('x Wide:', ((153)/(153+45+91)), \"%\")\n",
    "print('x Body:', ((45)/(153+45+91)), \"%\")\n",
    "print('x Tee:', ((91)/(153+45+91)), \"%\")\n",
    "print('x')\n",
    "print('x 1st Serve Direction Accuracy')\n",
    "print('x Wide:', duece_wide_pct, \"%\")\n",
    "print('x Body:', duece_body_pct, \"%\")\n",
    "print('x Tee:', duece_tee_pct, \"%\")\n",
    "print('x')\n",
    "print('x 2nd Serve Direction Frequency')\n",
    "print('x Count:' ,(ssdd[2]+ssdd[1]+ssdd[0]), 'Serves')\n",
    "print('x  ---')\n",
    "print('x Wide:', dswss, \"%\")\n",
    "print('x Body:', dsbss, \"%\")\n",
    "print('x Tee:', dstss, \"%\")\n",
    "print('x')\n",
    "print('x 2nd Serve Direction Accuracy')\n",
    "print('x Wide:', d_2s_w, \"%\")\n",
    "print('x Body:', d_2s_b, \"%\")\n",
    "print('x Tee:', d_2s_t, \"%\")\n",
    "print('x')\n",
    "print('xxxxxxxxxxxxxxxxxxxxxxxxxxxxxxxxxxxx')\n",
    "print('xxxxxxxxxxxxxxxxxxxxxxxxxxxxxxxxxxxx')\n",
    "print('x')\n",
    "print('xx Roddick Ad Side Statistics xx')\n",
    "print('x  --------------------------')\n",
    "print('x 1st Serve Direction Frequency')\n",
    "print('x Count:' ,((105+40+126)), 'Serves')\n",
    "print('x  ---')\n",
    "print('x Wide:', ((105)/(105+40+126)), \"%\")\n",
    "print('x Body:', ((40)/(105+40+126)), \"%\")\n",
    "print('x Tee:', ((126)/(105+40+126)), \"%\")\n",
    "print('x')\n",
    "print('x 1st Serve Direction Accuracy')\n",
    "print('x Wide:', ad_wide_pct, \"%\")\n",
    "print('x Body:', ad_body_pct, \"%\")\n",
    "print('x Tee:', ad_tee_pct, \"%\")\n",
    "print('x')\n",
    "print('x 2nd Serve Direction Frequency')\n",
    "print('x Count:' ,(ssad[2]+ssad[1]+ssad[0]), 'Serves')\n",
    "print('x  ---')\n",
    "print('x Wide:', aswss, \"%\")\n",
    "print('x Body:', asbss, \"%\")\n",
    "print('x Tee:', astss, \"%\")\n",
    "print('x')\n",
    "print('x 2nd Serve Direction Accuracy')\n",
    "print('x Wide:', a_2s_w, \"%\")\n",
    "print('x Body:', a_2s_b, \"%\")\n",
    "print('x Tee:', a_2s_t, \"%\")\n",
    "print('x')\n",
    "print('xxxxxxxxxxxxxxxxxxxxxxxxxxxxxxxxxxxx')\n",
    "print('xxxxxxxxxxxxxxxxxxxxxxxxxxxxxxxxxxxx')"
   ]
  },
  {
   "cell_type": "code",
   "execution_count": 107,
   "metadata": {},
   "outputs": [
    {
     "name": "stdout",
     "output_type": "stream",
     "text": [
      "Andy Roddick is winning 0.6272727272727273 % of 1st Serves when hitting Wide on the Duece Court, or 69 of 110 points.\n",
      "Andy Roddick is winning 0.7058823529411765 % of 1st Serves when hitting Body on the Duece Court, or 24 of 34 points.\n",
      "Andy Roddick is winning 0.803921568627451 % of 1st Serves when hitting Tee on the Duece Court, or 41 of 51 points.\n"
     ]
    }
   ],
   "source": [
    "print(ar_1st_d_wide_pct)\n",
    "# Body Duece Side 1st Serve Win %\n",
    "ar_1st_d_body_pct = \"Andy Roddick is winning {} % of 1st Serves when hitting Body on the Duece Court, or {} of {} points.\".format((s4b[1]/(s4b[1]+s4b[0])), s4b[1], s4b[1]+s4b[0])\n",
    "print(ar_1st_d_body_pct)\n",
    "# Tee Duece Side 1st Serve Win %\n",
    "ar_1st_d_tee_pct = \"Andy Roddick is winning {} % of 1st Serves when hitting Tee on the Duece Court, or {} of {} points.\".format((s4t[1]/(s4t[1]+s4t[0])), s4t[1], s4t[1]+s4t[0])\n",
    "print(ar_1st_d_tee_pct)"
   ]
  },
  {
   "cell_type": "code",
   "execution_count": 140,
   "metadata": {},
   "outputs": [
    {
     "name": "stdout",
     "output_type": "stream",
     "text": [
      "2       11\n",
      "4        9\n",
      "5       12\n",
      "8       12\n",
      "9        7\n",
      "10       8\n",
      "11       5\n",
      "12      17\n",
      "21      10\n",
      "24       7\n",
      "25       9\n",
      "32      11\n",
      "35       8\n",
      "38       6\n",
      "42       5\n",
      "43       5\n",
      "44       5\n",
      "50       5\n",
      "55       6\n",
      "56       7\n",
      "57       5\n",
      "59      18\n",
      "63       5\n",
      "64      11\n",
      "69      16\n",
      "72      11\n",
      "74       5\n",
      "77       7\n",
      "84       5\n",
      "97       7\n",
      "        ..\n",
      "1020     6\n",
      "1021    11\n",
      "1024     9\n",
      "1028     5\n",
      "1030     9\n",
      "1031     9\n",
      "1032     5\n",
      "1033    16\n",
      "1035     8\n",
      "1041     7\n",
      "1043     5\n",
      "1044     7\n",
      "1046     5\n",
      "1048     7\n",
      "1049     5\n",
      "1050     8\n",
      "1051     8\n",
      "1053    23\n",
      "1058    10\n",
      "1060     5\n",
      "1064     5\n",
      "1069    14\n",
      "1073     5\n",
      "1074     7\n",
      "1080     5\n",
      "1081     9\n",
      "1086     5\n",
      "1090     7\n",
      "1092    12\n",
      "1094     7\n",
      "Name: rallyCount, Length: 357, dtype: int64\n"
     ]
    },
    {
     "data": {
      "text/html": [
       "<div>\n",
       "<style scoped>\n",
       "    .dataframe tbody tr th:only-of-type {\n",
       "        vertical-align: middle;\n",
       "    }\n",
       "\n",
       "    .dataframe tbody tr th {\n",
       "        vertical-align: top;\n",
       "    }\n",
       "\n",
       "    .dataframe thead th {\n",
       "        text-align: right;\n",
       "    }\n",
       "</style>\n",
       "<table border=\"1\" class=\"dataframe\">\n",
       "  <thead>\n",
       "    <tr style=\"text-align: right;\">\n",
       "      <th></th>\n",
       "      <th>match_id</th>\n",
       "      <th>Pt</th>\n",
       "      <th>Set1</th>\n",
       "      <th>Set2</th>\n",
       "      <th>Gm1</th>\n",
       "      <th>Gm2</th>\n",
       "      <th>Pts</th>\n",
       "      <th>SrvDueceSide</th>\n",
       "      <th>Gm#</th>\n",
       "      <th>TbSet</th>\n",
       "      <th>...</th>\n",
       "      <th>PtsAfter</th>\n",
       "      <th>GmW</th>\n",
       "      <th>Gm1.1</th>\n",
       "      <th>Gm2.1</th>\n",
       "      <th>SetW</th>\n",
       "      <th>Set1.1</th>\n",
       "      <th>Set2.1</th>\n",
       "      <th>RevTB</th>\n",
       "      <th>TBrev</th>\n",
       "      <th>rallyCount</th>\n",
       "    </tr>\n",
       "  </thead>\n",
       "  <tbody>\n",
       "    <tr>\n",
       "      <th>2</th>\n",
       "      <td>20070905-M-US_Open-QF-Roger_Federer-Andy_Roddick</td>\n",
       "      <td>3</td>\n",
       "      <td>0</td>\n",
       "      <td>0</td>\n",
       "      <td>0</td>\n",
       "      <td>0</td>\n",
       "      <td>15-15</td>\n",
       "      <td>True</td>\n",
       "      <td>1</td>\n",
       "      <td>1</td>\n",
       "      <td>...</td>\n",
       "      <td>30-15</td>\n",
       "      <td>0</td>\n",
       "      <td>0</td>\n",
       "      <td>0</td>\n",
       "      <td>0</td>\n",
       "      <td>0</td>\n",
       "      <td>0</td>\n",
       "      <td>NaN</td>\n",
       "      <td>NaN</td>\n",
       "      <td>11</td>\n",
       "    </tr>\n",
       "    <tr>\n",
       "      <th>4</th>\n",
       "      <td>20070905-M-US_Open-QF-Roger_Federer-Andy_Roddick</td>\n",
       "      <td>5</td>\n",
       "      <td>0</td>\n",
       "      <td>0</td>\n",
       "      <td>0</td>\n",
       "      <td>0</td>\n",
       "      <td>40-15</td>\n",
       "      <td>True</td>\n",
       "      <td>1</td>\n",
       "      <td>1</td>\n",
       "      <td>...</td>\n",
       "      <td>GM</td>\n",
       "      <td>1</td>\n",
       "      <td>1</td>\n",
       "      <td>0</td>\n",
       "      <td>0</td>\n",
       "      <td>0</td>\n",
       "      <td>0</td>\n",
       "      <td>NaN</td>\n",
       "      <td>NaN</td>\n",
       "      <td>9</td>\n",
       "    </tr>\n",
       "    <tr>\n",
       "      <th>21</th>\n",
       "      <td>20070905-M-US_Open-QF-Roger_Federer-Andy_Roddick</td>\n",
       "      <td>22</td>\n",
       "      <td>0</td>\n",
       "      <td>0</td>\n",
       "      <td>2</td>\n",
       "      <td>2</td>\n",
       "      <td>0-0</td>\n",
       "      <td>True</td>\n",
       "      <td>5</td>\n",
       "      <td>1</td>\n",
       "      <td>...</td>\n",
       "      <td>0-15</td>\n",
       "      <td>0</td>\n",
       "      <td>2</td>\n",
       "      <td>2</td>\n",
       "      <td>0</td>\n",
       "      <td>0</td>\n",
       "      <td>0</td>\n",
       "      <td>NaN</td>\n",
       "      <td>NaN</td>\n",
       "      <td>10</td>\n",
       "    </tr>\n",
       "    <tr>\n",
       "      <th>24</th>\n",
       "      <td>20070905-M-US_Open-QF-Roger_Federer-Andy_Roddick</td>\n",
       "      <td>25</td>\n",
       "      <td>0</td>\n",
       "      <td>0</td>\n",
       "      <td>2</td>\n",
       "      <td>2</td>\n",
       "      <td>30-15</td>\n",
       "      <td>False</td>\n",
       "      <td>5</td>\n",
       "      <td>1</td>\n",
       "      <td>...</td>\n",
       "      <td>40-15</td>\n",
       "      <td>0</td>\n",
       "      <td>2</td>\n",
       "      <td>2</td>\n",
       "      <td>0</td>\n",
       "      <td>0</td>\n",
       "      <td>0</td>\n",
       "      <td>NaN</td>\n",
       "      <td>NaN</td>\n",
       "      <td>7</td>\n",
       "    </tr>\n",
       "    <tr>\n",
       "      <th>25</th>\n",
       "      <td>20070905-M-US_Open-QF-Roger_Federer-Andy_Roddick</td>\n",
       "      <td>26</td>\n",
       "      <td>0</td>\n",
       "      <td>0</td>\n",
       "      <td>2</td>\n",
       "      <td>2</td>\n",
       "      <td>40-15</td>\n",
       "      <td>True</td>\n",
       "      <td>5</td>\n",
       "      <td>1</td>\n",
       "      <td>...</td>\n",
       "      <td>GM</td>\n",
       "      <td>1</td>\n",
       "      <td>3</td>\n",
       "      <td>2</td>\n",
       "      <td>0</td>\n",
       "      <td>0</td>\n",
       "      <td>0</td>\n",
       "      <td>NaN</td>\n",
       "      <td>NaN</td>\n",
       "      <td>9</td>\n",
       "    </tr>\n",
       "  </tbody>\n",
       "</table>\n",
       "<p>5 rows × 53 columns</p>\n",
       "</div>"
      ],
      "text/plain": [
       "                                            match_id  Pt  Set1  Set2  Gm1  \\\n",
       "2   20070905-M-US_Open-QF-Roger_Federer-Andy_Roddick   3     0     0    0   \n",
       "4   20070905-M-US_Open-QF-Roger_Federer-Andy_Roddick   5     0     0    0   \n",
       "21  20070905-M-US_Open-QF-Roger_Federer-Andy_Roddick  22     0     0    2   \n",
       "24  20070905-M-US_Open-QF-Roger_Federer-Andy_Roddick  25     0     0    2   \n",
       "25  20070905-M-US_Open-QF-Roger_Federer-Andy_Roddick  26     0     0    2   \n",
       "\n",
       "    Gm2    Pts  SrvDueceSide  Gm#  TbSet    ...      PtsAfter  GmW  Gm1.1  \\\n",
       "2     0  15-15          True    1      1    ...         30-15    0      0   \n",
       "4     0  40-15          True    1      1    ...            GM    1      1   \n",
       "21    2    0-0          True    5      1    ...          0-15    0      2   \n",
       "24    2  30-15         False    5      1    ...         40-15    0      2   \n",
       "25    2  40-15          True    5      1    ...            GM    1      3   \n",
       "\n",
       "    Gm2.1 SetW Set1.1 Set2.1 RevTB TBrev rallyCount  \n",
       "2       0    0      0      0   NaN   NaN         11  \n",
       "4       0    0      0      0   NaN   NaN          9  \n",
       "21      2    0      0      0   NaN   NaN         10  \n",
       "24      2    0      0      0   NaN   NaN          7  \n",
       "25      2    0      0      0   NaN   NaN          9  \n",
       "\n",
       "[5 rows x 53 columns]"
      ]
     },
     "execution_count": 140,
     "metadata": {},
     "output_type": "execute_result"
    }
   ],
   "source": [
    "### Let's look at point length\n",
    "\n",
    "rc = fr[(fr['rallyCount']>4)]\n",
    "print(rc.rallyCount)\n",
    "\n",
    "# Ok, so there were 357 points that went over 5 Shots\n",
    "\n",
    "rf_rc = rc[(rc['Serving']=='RF')]\n",
    "rf_rc.head()"
   ]
  },
  {
   "cell_type": "code",
   "execution_count": 161,
   "metadata": {},
   "outputs": [
    {
     "data": {
      "text/plain": [
       "<matplotlib.axes._subplots.AxesSubplot at 0x17796ee0ef0>"
      ]
     },
     "execution_count": 161,
     "metadata": {},
     "output_type": "execute_result"
    },
    {
     "data": {
      "image/png": "[encoded data removed]",
      "text/plain": [
       "<Figure size 1440x1080 with 1 Axes>"
      ]
     },
     "metadata": {},
     "output_type": "display_data"
    }
   ],
   "source": [
    "#### Let's just look at all points in the match by serve - that way we \n",
    "#### Can see if either player is crushing points over a certain number\n",
    "#### (Hint we're expecting it to be Federer)\n",
    "\n",
    "# \"1\" represents the server was the winner of the point\n",
    "\n",
    "####### Seaborn Formatting #######\n",
    "plt.subplots(figsize=(20,15))\n",
    "sns.set(font_scale=1.5)\n",
    "##### End Seaborn Formatting #####\n",
    "\n",
    "## Federer's Points won on serve (by Length)\n",
    "sns.countplot(x=rf_serve.rallyCount, hue=rf_serve.isSvrWinner)\n",
    "\n",
    "\n"
   ]
  },
  {
   "cell_type": "code",
   "execution_count": 162,
   "metadata": {},
   "outputs": [
    {
     "data": {
      "text/plain": [
       "<matplotlib.axes._subplots.AxesSubplot at 0x17796913438>"
      ]
     },
     "execution_count": 162,
     "metadata": {},
     "output_type": "execute_result"
    },
    {
     "data": {
      "image/png": "[encoded data removed]",
      "text/plain": [
       "<Figure size 1440x1080 with 1 Axes>"
      ]
     },
     "metadata": {},
     "output_type": "display_data"
    }
   ],
   "source": [
    "## Roddick's Points won on serve (by Length)\n",
    "# \"1\" represents the server was the winner of the point\n",
    "####### Seaborn Formatting #######\n",
    "plt.subplots(figsize=(20,15))\n",
    "sns.set(font_scale=1.5)\n",
    "##### End Seaborn Formatting #####\n",
    "\n",
    "\n",
    "# Roddick's Points won on Serve\n",
    "sns.countplot(x=ar_serve.rallyCount, hue=ar_serve.isSvrWinner)"
   ]
  },
  {
   "cell_type": "code",
   "execution_count": 164,
   "metadata": {},
   "outputs": [],
   "source": [
    "#### Some interesting Notes\n",
    "### Ok, so after around 5 shots, Federer is the favourite to win the rally.\n",
    "### This isn't particularly interesting, but \n",
    "\n"
   ]
  },
  {
   "cell_type": "code",
   "execution_count": 165,
   "metadata": {},
   "outputs": [],
   "source": [
    "# aedanr.roberts@uts.edu.au"
   ]
  },
  {
   "cell_type": "code",
   "execution_count": 185,
   "metadata": {},
   "outputs": [
    {
     "data": {
      "text/plain": [
       "<matplotlib.axes._subplots.AxesSubplot at 0x17799805550>"
      ]
     },
     "execution_count": 185,
     "metadata": {},
     "output_type": "execute_result"
    },
    {
     "data": {
      "image/png": "[encoded data removed]",
      "text/plain": [
       "<Figure size 432x288 with 1 Axes>"
      ]
     },
     "metadata": {},
     "output_type": "display_data"
    }
   ],
   "source": [
    "### Just Double Checking the Rally Length\n",
    "sns.countplot(x = fr.rallyCount)\n"
   ]
  },
  {
   "cell_type": "code",
   "execution_count": 184,
   "metadata": {},
   "outputs": [
    {
     "data": {
      "text/plain": [
       "<matplotlib.axes._subplots.AxesSubplot at 0x177997b7c18>"
      ]
     },
     "execution_count": 184,
     "metadata": {},
     "output_type": "execute_result"
    },
    {
     "data": {
      "image/png": "[encoded data removed]",
      "text/plain": [
       "<Figure size 432x288 with 1 Axes>"
      ]
     },
     "metadata": {},
     "output_type": "display_data"
    }
   ],
   "source": [
    "### Still DOuble Checking Rally Length\n",
    "######################################################################################################\n",
    "######################################################################################################sns.kdeplot(fr.rallyCount)"
   ]
  },
  {
   "cell_type": "code",
   "execution_count": 186,
   "metadata": {},
   "outputs": [],
   "source": [
    "######################################################################################################\n",
    "######################################################################################################\n",
    "######################################################################################################\n",
    "######################################################################################################\n",
    "######################################################################################################\n",
    "######################################################################################################\n",
    "########## OK so this point in the exploratory data is a new section of work. At this stage ##########\n",
    "########## I think it's best to start trying to tokenize data. I'm going to learn how to    ##########\n",
    "########## tokenize data first using just a singular dataset, and then from there we can    ##########\n",
    "########## Expand if needs be. Let's just start with something like the Roddick First Serve ##########\n",
    "########## Dataset as a baseline. We might even need to structure it just on the Duece Side ##########\n",
    "######################################################################################################\n",
    "######################################################################################################\n",
    "######################################################################################################\n",
    "######################################################################################################\n",
    "######################################################################################################\n",
    "######################################################################################################\n",
    "\n",
    "\n"
   ]
  },
  {
   "cell_type": "code",
   "execution_count": 196,
   "metadata": {},
   "outputs": [
    {
     "data": {
      "text/plain": [
       "match_id            197\n",
       "Pt                  197\n",
       "Set1                197\n",
       "Set2                197\n",
       "Gm1                 197\n",
       "Gm2                 197\n",
       "Pts                 197\n",
       "SrvDueceSide        197\n",
       "Gm#                 197\n",
       "TbSet               197\n",
       "TB?                 197\n",
       "TBpt                  2\n",
       "Svr                 197\n",
       "Ret                 197\n",
       "Serving             197\n",
       "1st                 197\n",
       "2nd                   0\n",
       "Notes                 1\n",
       "1stNoLet            197\n",
       "2ndNoLet              0\n",
       "1stSV               197\n",
       "2ndSV                 0\n",
       "1stNoSV             197\n",
       "2ndNoSV               0\n",
       "1stIn               197\n",
       "2ndIn                 0\n",
       "isRally1st          197\n",
       "isRally2nd          197\n",
       "Sv1                 197\n",
       "Sv2                   0\n",
       "Rally               159\n",
       "isAce               197\n",
       "isUnret             197\n",
       "isRallyWinner       197\n",
       "isForced            197\n",
       "isUnforced          197\n",
       "isDouble            197\n",
       "rallyNoSpec         159\n",
       "rallyNoError        159\n",
       "rallyNoDirection    159\n",
       "rallyLen            197\n",
       "PtWinner            197\n",
       "isSvrWinner         197\n",
       "PtsAfter            197\n",
       "GmW                 197\n",
       "Gm1.1               197\n",
       "Gm2.1               197\n",
       "SetW                197\n",
       "Set1.1              197\n",
       "Set2.1              197\n",
       "RevTB                 2\n",
       "TBrev                 2\n",
       "rallyCount          197\n",
       "dtype: int64"
      ]
     },
     "execution_count": 196,
     "metadata": {},
     "output_type": "execute_result"
    }
   ],
   "source": [
    "# Choosing the Opening Dataset\n",
    "## Roddick 1st Serves on the Duece Side\n",
    "### Sure, it's oddly specific, but simplification for learning the process of tokenization seems ideal\n",
    "\n",
    "\n",
    "# Here we've created a variable for all of Roddicks 1st Serve Points on the Forehand Side\n",
    "# For this, First serve HAD TO GO IN, there was NO SECOND SERVE POINTS here\n",
    "ar_token = ar_d_srv[(ar_d_srv['Sv2'].isnull())]\n",
    "\n"
   ]
  },
  {
   "cell_type": "code",
   "execution_count": null,
   "metadata": {},
   "outputs": [],
   "source": []
  }
 ],
 "metadata": {
  "kernelspec": {
   "display_name": "Python 3",
   "language": "python",
   "name": "python3"
  },
  "language_info": {
   "codemirror_mode": {
    "name": "ipython",
    "version": 3
   },
   "file_extension": ".py",
   "mimetype": "text/x-python",
   "name": "python",
   "nbconvert_exporter": "python",
   "pygments_lexer": "ipython3",
   "version": "3.6.4"
  }
 },
 "nbformat": 4,
 "nbformat_minor": 2
}
